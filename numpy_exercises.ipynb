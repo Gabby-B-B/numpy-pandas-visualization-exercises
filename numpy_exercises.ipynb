{
 "cells": [
  {
   "cell_type": "code",
   "execution_count": 365,
   "metadata": {},
   "outputs": [],
   "source": [
    "import numpy as np"
   ]
  },
  {
   "cell_type": "code",
   "execution_count": 335,
   "metadata": {},
   "outputs": [],
   "source": [
    "a = np.array([4, 10, 12, 23, -2, -1, 0, 0, 0, -6, 3, -7])"
   ]
  },
  {
   "cell_type": "code",
   "execution_count": 336,
   "metadata": {},
   "outputs": [
    {
     "name": "stdout",
     "output_type": "stream",
     "text": [
      "There are 4 negative numbers in this numpy array.\n"
     ]
    }
   ],
   "source": [
    "## How many negative numbers are there?\n",
    "# First I want to see which numbers are negative\n",
    "negative_elements = a < 0\n",
    "negative_elements\n",
    "# Now I am counting each negative number\n",
    "sum_negative_elements= np.count_nonzero(a < 0)\n",
    "# If I was presenting the outcome to the user, this is what I would want to print.\n",
    "print(\"There are\", sum_negative_elements, \"negative numbers in this numpy array.\")"
   ]
  },
  {
   "cell_type": "code",
   "execution_count": 337,
   "metadata": {},
   "outputs": [
    {
     "name": "stdout",
     "output_type": "stream",
     "text": [
      "There are 5 positive numbers in this numpy array.\n"
     ]
    }
   ],
   "source": [
    "## How many positive numbers are there?\n",
    "#First I want to see which numbers are positive.\n",
    "positive_elements = a > 0\n",
    "positive_elements\n",
    "#Now I am counting each positive number\n",
    "sum_positive_elements= np.count_nonzero(a > 0)\n",
    "# If I was presenting the outcome to the user, this is what I would want to print.\n",
    "print(\"There are\", sum_positive_elements, \"positive numbers in this numpy array.\")"
   ]
  },
  {
   "cell_type": "code",
   "execution_count": 338,
   "metadata": {},
   "outputs": [
    {
     "name": "stdout",
     "output_type": "stream",
     "text": [
      "There are 3 positive even numbers in this numpy array.\n"
     ]
    }
   ],
   "source": [
    "##How many even positive numbers are there?\n",
    "#First I want to isolate my even numbers and my positive numbers\n",
    "even = a % 2 == 0\n",
    "positive= a > 0\n",
    "#Now I want to count values that are both even and positive\n",
    "sum_positive_evens= np.count_nonzero(positive & even)\n",
    "# If I was presenting the outcome to the user, this is what I would want to print.\n",
    "print(\"There are\", sum_positive_evens, \"positive even numbers in this numpy array.\")"
   ]
  },
  {
   "cell_type": "code",
   "execution_count": 339,
   "metadata": {},
   "outputs": [
    {
     "name": "stdout",
     "output_type": "stream",
     "text": [
      "The new array with 3 added to each value is: [ 7 13 15 26  1  2  3  3  3 -3  6 -4]\n",
      "There are 10 positive numbers in this new numpy array.\n"
     ]
    }
   ],
   "source": [
    "## If you were to add 3 to each data point, how many positive numbers would there be?\n",
    "#First, I want to add 3 to each data point\n",
    "d= a+3\n",
    "# If I was presenting the outcome to the user, I would want to show them that the list has been properly added.\n",
    "print(\"The new array with 3 added to each value is:\", d)\n",
    "sum_pos_plus_three= np.count_nonzero( d > 0)\n",
    "# If I was presenting the outcome to the user, this is what I would want to print.\n",
    "print(\"There are\",sum_pos_plus_three, \"positive numbers in this new numpy array.\")"
   ]
  },
  {
   "cell_type": "code",
   "execution_count": 340,
   "metadata": {},
   "outputs": [
    {
     "name": "stdout",
     "output_type": "stream",
     "text": [
      "The new array with each value squared is: [ 16 100 144 529   4   1   0   0   0  36   9  49]\n",
      "The new standard deviation of the array is 144.0243035046516\n",
      "The new mean of the array is 74.0\n"
     ]
    }
   ],
   "source": [
    "## If you squared each number, what would the new mean and standard deviation be?\n",
    "# First I would want to square each number in the array.\n",
    "b=np.square(a)\n",
    "# If I was presenting the outcome to the user, I would want to show them that the list has been properly squared.\n",
    "print(\"The new array with each value squared is:\", b)\n",
    "\n",
    "\n",
    "#Now I would want to calculate the new standard deviation.\n",
    "stddev= b.std()\n",
    "# If I was presenting the outcome to the user, this is what I would want to print.\n",
    "print(\"The new standard deviation of the array is\", stddev)\n",
    "\n",
    "\n",
    "#Finally, I would calculate the new mean of the array.\n",
    "mean= b.sum() / 12\n",
    "# If I was presenting the outcome to the user, this is what I would want to print.\n",
    "print(\"The new mean of the array is\", mean)"
   ]
  },
  {
   "cell_type": "code",
   "execution_count": 341,
   "metadata": {},
   "outputs": [
    {
     "name": "stdout",
     "output_type": "stream",
     "text": [
      "The mean of the original array is 3 .\n",
      "The centered array is [  1   7   9  20  -5  -4  -3  -3  -3  -9   0 -10]\n"
     ]
    }
   ],
   "source": [
    "## A common statistical operation on a dataset is centering. This means to adjust the data such that the center of the data is at 0. This is done by subtracting the mean from each data point. Center the data set.\n",
    "a = np.array([4, 10, 12, 23, -2, -1, 0, 0, 0, -6, 3, -7])\n",
    "#First I want to calculate the mean of the original array.\n",
    "mean = a.sum() / 12\n",
    "# If I was presenting the outcome to the user, I would want to show them the mean I calculated.\n",
    "print(\"The mean of the original array is\", int(mean), \".\")\n",
    "## Now I want to set up my equation to center the array\n",
    "d= a - int(mean)\n",
    "# If I was presenting the outcome to the user, this is what I would want to print.\n",
    "print(\"The centered array is\", d)"
   ]
  },
  {
   "cell_type": "code",
   "execution_count": 342,
   "metadata": {},
   "outputs": [
    {
     "name": "stdout",
     "output_type": "stream",
     "text": [
      "The standard deviation of the array is 8.06225774829855\n",
      "The z score for each value in the array is [ 3.6278958  9.6278958 11.6278958 22.6278958 -2.3721042 -1.3721042\n",
      " -0.3721042 -0.3721042 -0.3721042 -6.3721042  2.6278958 -7.3721042]\n"
     ]
    }
   ],
   "source": [
    "## Calculate the z-score for each data point. Recall that the z-score is given by\n",
    "#First I am going to calculate the standard deviation of the array\n",
    "stddev= a.std()\n",
    "# If I was presenting the outcome to the user, this is what I would want to print to show that I calculated the standard deviation properly.\n",
    "print(\"The standard deviation of the array is\", stddev)\n",
    "#Because I am tired, I am going to just reuse the mean from the last problem in my z score function.\n",
    "z_score= a-mean/ stddev\n",
    "# If I was presenting the outcome to the user, this is what I would want to print.\n",
    "print(\"The z score for each value in the array is\", z_score)"
   ]
  },
  {
   "cell_type": "markdown",
   "metadata": {},
   "source": [
    "<font face = \"chalkduster\" size = \"48\"><p style= \"color: hotpink\"> Numpy Exercises Part I</font> </p>"
   ]
  },
  {
   "cell_type": "code",
   "execution_count": 343,
   "metadata": {},
   "outputs": [],
   "source": [
    "a = [1, 2, 3, 4, 5, 6, 7, 8, 9, 10]\n",
    "ab= np.array(a)"
   ]
  },
  {
   "cell_type": "markdown",
   "metadata": {},
   "source": [
    "<font face = \"chalkduster\" size = \"32\"> <p style= \"color: hotpink\"> Set up 1 </font> </p>\n",
    "<ul> <li><p style= \"color: purple\"> Use python's built in functionality/operators to determine the following: </p></li></ul>"
   ]
  },
  {
   "cell_type": "code",
   "execution_count": 344,
   "metadata": {},
   "outputs": [
    {
     "name": "stdout",
     "output_type": "stream",
     "text": [
      "The sum of the array above is 55 .\n",
      "The minimum of all the numbers is 1 .\n",
      "The maximum of all the numbers is 10 .\n",
      "The average of all the numbers is 5.5 .\n",
      "The product of all numbers in a list are 3628800 .\n",
      "Each value in the list squared are [  1   4   9  16  25  36  49  64  81 100]\n",
      "The odds in the list are [1 3 5 7 9]\n",
      "The evens in the list are [ 2  4  6  8 10]\n"
     ]
    }
   ],
   "source": [
    "# Exercise 1 - Make a variable called sum_of_a to hold the sum of all the numbers in above list\n",
    "sum_of_a= ab.sum()\n",
    "print(\"The sum of the array above is\", sum_of_a, \".\")\n",
    "# Exercise 2 - Make a variable named min_of_a to hold the minimum of all the numbers in the above list\n",
    "min_of_a= ab.min()\n",
    "print(\"The minimum of all the numbers is\", min_of_a, \".\")\n",
    "# Exercise 3 - Make a variable named max_of_a to hold the max number of all the numbers in the above list\n",
    "max_of_a= ab.max()\n",
    "print(\"The maximum of all the numbers is\", max_of_a, \".\")\n",
    "# Exercise 4 - Make a variable named mean_of_a to hold the average of all the numbers in the above list\n",
    "mean_of_a= sum_of_a / 10\n",
    "print(\"The average of all the numbers is\", mean_of_a, \".\")\n",
    "# Exercise 5 - Make a variable named product_of_a to hold the product of multiplying all the numbers in the above list together\n",
    "product_of_a= np.prod(ab)\n",
    "print(\"The product of all numbers in a list are\", product_of_a, \".\")\n",
    "# Exercise 6 - Make a variable named squares_of_a. It should hold each number in a squared like [1, 4, 9, 16, 25...]\n",
    "squares_of_a= np.square(ab)\n",
    "print(\"Each value in the list squared are\", squares_of_a)\n",
    "# Exercise 7 - Make a variable named odds_in_a. It should hold only the odd numbers\n",
    "odds_in_a= ab[ab % 2 ==1]\n",
    "print(\"The odds in the list are\", odds_in_a)\n",
    "# Exercise 8 - Make a variable named evens_in_a. It should hold only the evens.\n",
    "evens_in_a= ab[ab % 2 ==0]\n",
    "print(\"The evens in the list are\", evens_in_a)"
   ]
  },
  {
   "cell_type": "markdown",
   "metadata": {},
   "source": [
    "<font face = \"chalkduster\" size = \"32\"> <p style= \"color: hotpink\">Setup 2: </font> </p>\n",
    "\n",
    "<ul>\n",
    "<li><p style= \"color: purple\"> What about life in two dimensions? A list of lists is matrix, a table, a spreadsheet, a chessboard...</p> </li>\n",
    "<li><p style= \"color: purple\">  Consider what it would take to find the sum, min, max, average, sum, product, and list of squares for this list of two lists. </p> </li> </ul> "
   ]
  },
  {
   "cell_type": "code",
   "execution_count": 345,
   "metadata": {},
   "outputs": [],
   "source": [
    "b = [\n",
    "    [3, 4, 5],\n",
    "    [6, 7, 8]\n",
    "]\n",
    "b= np.array(b)"
   ]
  },
  {
   "cell_type": "markdown",
   "metadata": {},
   "source": [
    "<p style= \"color: hotpink\"> <font face = \"chalkduster\">Exercise 1 - refactor the following to use numpy. Use sum_of_b as the variable. **Hint, you'll first need to make sure that the \"b\" variable is a numpy array** </font></p>\n",
    "\n",
    "<p style=\"color:purple\"> sum_of_b = 0\n",
    "for row in b:\n",
    "    sum_of_b += sum(row) </p>"
   ]
  },
  {
   "cell_type": "code",
   "execution_count": 346,
   "metadata": {},
   "outputs": [
    {
     "name": "stdout",
     "output_type": "stream",
     "text": [
      "The sum of b variable is 33 .\n"
     ]
    }
   ],
   "source": [
    "sum_of_b= np.sum(b)\n",
    "print(\"The sum of b variable is\",sum_of_b,\".\")"
   ]
  },
  {
   "cell_type": "markdown",
   "metadata": {},
   "source": [
    "<p style= \"color: hotpink\"> <font face = \"chalkduster\"> Exercise 2 - refactor the following to use numpy. </font>\n",
    "<p style=\"color:purple\"> min_of_b = min(b[0]) if min(b[0]) <= min(b[1]) else min(b[1]) </p>"
   ]
  },
  {
   "cell_type": "code",
   "execution_count": 347,
   "metadata": {},
   "outputs": [
    {
     "name": "stdout",
     "output_type": "stream",
     "text": [
      "The minimum value of b variable is 3 .\n"
     ]
    }
   ],
   "source": [
    "min_of_b= np.min(b)\n",
    "print(\"The minimum value of b variable is\",min_of_b,\".\")"
   ]
  },
  {
   "cell_type": "markdown",
   "metadata": {},
   "source": [
    "<p style= \"color: hotpink\"> <font face = \"chalkduster\"> Exercise 3 - refactor the following maximum calculation to find the answer with numpy. </font> \n",
    "<p style=\"color:purple\"> max_of_b = max(b[0]) if max(b[0]) >= max(b[1]) else max(b[1]) </p>"
   ]
  },
  {
   "cell_type": "code",
   "execution_count": 348,
   "metadata": {},
   "outputs": [
    {
     "name": "stdout",
     "output_type": "stream",
     "text": [
      "The maximum value of b variable is 8 .\n"
     ]
    }
   ],
   "source": [
    "max_of_b= np.max(b)\n",
    "print(\"The maximum value of b variable is\",max_of_b,\".\")"
   ]
  },
  {
   "cell_type": "markdown",
   "metadata": {},
   "source": [
    "<p style= \"color: hotpink\"><font face = \"chalkduster\"> Exercise 4 - refactor the following using numpy to find the mean of b </font>\n",
    "\n",
    "<p style= \"color: purple\"> mean_of_b = (sum(b[0]) + sum(b[1])) / (len(b[0]) + len(b[1])) </p>"
   ]
  },
  {
   "cell_type": "code",
   "execution_count": 349,
   "metadata": {},
   "outputs": [
    {
     "name": "stdout",
     "output_type": "stream",
     "text": [
      "The average of b variable is 5.5 .\n"
     ]
    }
   ],
   "source": [
    "mean_of_b= np.sum(b)/6\n",
    "print(\"The average of b variable is\",mean_of_b,\".\")"
   ]
  },
  {
   "cell_type": "markdown",
   "metadata": {},
   "source": [
    "<p style= \"color: hotpink\"><font face = \"chalkduster\">Exercise 5 - refactor the following to use numpy for calculating the product of all numbers multiplied together.\n",
    "product_of_b = 1 </font>\n",
    "<p style=\"color:purple\"> for row in b:\n",
    "    for number in row:\n",
    "        product_of_b *= number </p>"
   ]
  },
  {
   "cell_type": "code",
   "execution_count": 350,
   "metadata": {},
   "outputs": [
    {
     "name": "stdout",
     "output_type": "stream",
     "text": [
      "The product of each number in the b variable is 20160\n"
     ]
    }
   ],
   "source": [
    "product_of_b= np.product(b)\n",
    "print(\"The product of each number in the b variable is\", product_of_b)"
   ]
  },
  {
   "cell_type": "markdown",
   "metadata": {},
   "source": [
    "<p style= \"color: hotpink\"><font face = \"chalkduster\"> Exercise 6 - refactor the following to use numpy to find the list of squares </font>\n",
    "<p style= \"color:purple\"> \n",
    "squares_of_b = []\n",
    "for row in b:\n",
    "    for number in row:\n",
    "        squares_of_b.append(number**2) </p>\n"
   ]
  },
  {
   "cell_type": "code",
   "execution_count": 351,
   "metadata": {},
   "outputs": [
    {
     "name": "stdout",
     "output_type": "stream",
     "text": [
      "Each number squared in the b variable is [[ 9 16 25]\n",
      " [36 49 64]]\n"
     ]
    }
   ],
   "source": [
    "squares_of_b= np.square(b)\n",
    "print(\"Each number squared in the b variable is\", squares_of_b)"
   ]
  },
  {
   "cell_type": "markdown",
   "metadata": {},
   "source": [
    "<p style= \"color: hotpink\"><font face = \"chalkduster\"> Exercise 7 - refactor using numpy to determine the odds_in_b </font>\n",
    "<p style= \"color: purple\"> odds_in_b = []\n",
    "for row in b:\n",
    "    for number in row:\n",
    "        if(number % 2 != 0):\n",
    "            odds_in_b.append(number) </p>"
   ]
  },
  {
   "cell_type": "code",
   "execution_count": 352,
   "metadata": {},
   "outputs": [
    {
     "name": "stdout",
     "output_type": "stream",
     "text": [
      "The odds in the list are [1 3 5 7 9]\n"
     ]
    }
   ],
   "source": [
    "odds_in_b=b[b % 2 ==1]\n",
    "print(\"The odds in the list are\", odds_in_a)"
   ]
  },
  {
   "cell_type": "markdown",
   "metadata": {},
   "source": [
    "<p style= \"color: hotpink\"><font face = \"chalkduster\"> Exercise 8 - refactor the following to use numpy to filter only the even numbers </font>\n",
    "<p style= \"color: purple\">\n",
    "evens_in_b = []\n",
    "for row in b:\n",
    "    for number in row:\n",
    "        if(number % 2 == 0):\n",
    "            evens_in_b.append(number) </p>"
   ]
  },
  {
   "cell_type": "code",
   "execution_count": 353,
   "metadata": {},
   "outputs": [
    {
     "name": "stdout",
     "output_type": "stream",
     "text": [
      "The evens in the list are [4 6 8]\n"
     ]
    }
   ],
   "source": [
    "evens_in_b=b[b % 2 ==0]\n",
    "print(\"The evens in the list are\", evens_in_b)"
   ]
  },
  {
   "cell_type": "markdown",
   "metadata": {},
   "source": [
    "<p style= \"color: hotpink\"><font face = \"chalkduster\"> Exercise 9 - print out the shape of the array b. </font>"
   ]
  },
  {
   "cell_type": "code",
   "execution_count": 354,
   "metadata": {},
   "outputs": [
    {
     "name": "stdout",
     "output_type": "stream",
     "text": [
      "The shape of the array b is (2, 3)\n"
     ]
    }
   ],
   "source": [
    "b.shape\n",
    "print(\"The shape of the array b is\",b.shape)"
   ]
  },
  {
   "cell_type": "markdown",
   "metadata": {},
   "source": [
    "<p style= \"color: hotpink\"> <font face = \"chalkduster\"> Exercise 10 - transpose the array b. </font>"
   ]
  },
  {
   "cell_type": "code",
   "execution_count": 355,
   "metadata": {},
   "outputs": [
    {
     "name": "stdout",
     "output_type": "stream",
     "text": [
      "The array transposed is [[3 6]\n",
      " [4 7]\n",
      " [5 8]]\n"
     ]
    }
   ],
   "source": [
    "np.transpose(b)\n",
    "print(\"The array transposed is\", np.transpose(b))"
   ]
  },
  {
   "cell_type": "markdown",
   "metadata": {},
   "source": [
    "<p style= \"color: hotpink\"><font face = \"chalkduster\"> Exercise 11 - reshape the array b to be a single list of 6 numbers. (1 x 6) </font>"
   ]
  },
  {
   "cell_type": "code",
   "execution_count": 356,
   "metadata": {},
   "outputs": [
    {
     "name": "stdout",
     "output_type": "stream",
     "text": [
      "The concatenated list is [3 4 5 6 7 8]\n"
     ]
    }
   ],
   "source": [
    "np.concatenate((b))\n",
    "print(\"The concatenated list is\",np.concatenate(b))"
   ]
  },
  {
   "cell_type": "markdown",
   "metadata": {},
   "source": [
    "<p style= \"color: hotpink\"><font face = \"chalkduster\"> Exercise 12 - reshape the array b to be a list of 6 lists, each containing only 1 number (6 x 1) </font>"
   ]
  },
  {
   "cell_type": "code",
   "execution_count": 357,
   "metadata": {},
   "outputs": [
    {
     "name": "stdout",
     "output_type": "stream",
     "text": [
      "The reshaped array is [[3]\n",
      " [4]\n",
      " [5]\n",
      " [6]\n",
      " [7]\n",
      " [8]]\n"
     ]
    }
   ],
   "source": [
    "np_array=np.asarray(b)\n",
    "reshaped_array = np_array.reshape(1, 6).T \n",
    "print(\"The reshaped array is\",reshaped_array)"
   ]
  },
  {
   "cell_type": "markdown",
   "metadata": {},
   "source": [
    "<font face = \"chalkduster\" size = \"32\"> <p style= \"color: hotpink\">Setup 3: </font> </p>"
   ]
  },
  {
   "cell_type": "code",
   "execution_count": 358,
   "metadata": {},
   "outputs": [],
   "source": [
    "c = [\n",
    "    [1, 2, 3],\n",
    "    [4, 5, 6],\n",
    "    [7, 8, 9]\n",
    "]\n",
    "c= np.array(c)"
   ]
  },
  {
   "cell_type": "markdown",
   "metadata": {},
   "source": [
    "<p style= \"color: hotpink\"><font face = \"chalkduster\"> Exercise 1 - Find the min, max, sum, and product of c. </font>        "
   ]
  },
  {
   "cell_type": "code",
   "execution_count": 359,
   "metadata": {},
   "outputs": [
    {
     "name": "stdout",
     "output_type": "stream",
     "text": [
      "The minimum number in the array is 1\n",
      "The maximum number in the array is 9\n",
      "The sum of the array is 45\n",
      "The product of the array is 362880\n"
     ]
    }
   ],
   "source": [
    "np.min(c)\n",
    "print(\"The minimum number in the array is\", np.min(c))\n",
    "np.max(c)\n",
    "print(\"The maximum number in the array is\", np.max(c))\n",
    "np.sum(c)\n",
    "print(\"The sum of the array is\", np.sum(c))\n",
    "np.product(c)\n",
    "print(\"The product of the array is\", np.product(c))"
   ]
  },
  {
   "cell_type": "markdown",
   "metadata": {},
   "source": [
    "<p style= \"color: hotpink\"><font face = \"chalkduster\"> Exercise 2 - Determine the standard deviation of c. </font>"
   ]
  },
  {
   "cell_type": "code",
   "execution_count": 360,
   "metadata": {},
   "outputs": [
    {
     "name": "stdout",
     "output_type": "stream",
     "text": [
      "The standard deviation of the array is 2.581988897471611\n"
     ]
    }
   ],
   "source": [
    "np.std(c)\n",
    "print(\"The standard deviation of the array is\", np.std(c))"
   ]
  },
  {
   "cell_type": "markdown",
   "metadata": {},
   "source": [
    "<p style= \"color: hotpink\"><font face = \"chalkduster\"> Exercise 3 - Determine the variance of c. </font>"
   ]
  },
  {
   "cell_type": "code",
   "execution_count": 361,
   "metadata": {},
   "outputs": [
    {
     "name": "stdout",
     "output_type": "stream",
     "text": [
      "The variance of c is 2.9166666666666665\n"
     ]
    }
   ],
   "source": [
    "np.var(b)\n",
    "print(\"The variance of c is\", np.var(b))"
   ]
  },
  {
   "cell_type": "markdown",
   "metadata": {},
   "source": [
    "<p style= \"color: hotpink\"><font face = \"chalkduster\"> Exercise 4 - Print out the shape of the array c </font>"
   ]
  },
  {
   "cell_type": "code",
   "execution_count": 362,
   "metadata": {},
   "outputs": [
    {
     "name": "stdout",
     "output_type": "stream",
     "text": [
      "The shape of the c array is (3, 3)\n"
     ]
    }
   ],
   "source": [
    "np.shape(c)\n",
    "print(\"The shape of the c array is\", np.shape(c))"
   ]
  },
  {
   "cell_type": "markdown",
   "metadata": {},
   "source": [
    "<p style= \"color: hotpink\"><font face = \"chalkduster\"> Exercise 5 - Transpose c and print out transposed result. </font>"
   ]
  },
  {
   "cell_type": "code",
   "execution_count": 363,
   "metadata": {},
   "outputs": [
    {
     "name": "stdout",
     "output_type": "stream",
     "text": [
      "The array transposed is [[1 4 7]\n",
      " [2 5 8]\n",
      " [3 6 9]]\n"
     ]
    }
   ],
   "source": [
    "np.transpose(c)\n",
    "print(\"The array transposed is\", np.transpose(c))"
   ]
  },
  {
   "cell_type": "markdown",
   "metadata": {},
   "source": [
    "<p style= \"color: hotpink\"><font face = \"chalkduster\"> Exercise 6 - Get the dot product of the array c with c. </font>"
   ]
  },
  {
   "cell_type": "code",
   "execution_count": 367,
   "metadata": {},
   "outputs": [
    {
     "data": {
      "text/plain": [
       "array([[ 30,  36,  42],\n",
       "       [ 66,  81,  96],\n",
       "       [102, 126, 150]])"
      ]
     },
     "execution_count": 367,
     "metadata": {},
     "output_type": "execute_result"
    }
   ],
   "source": [
    "np.dot(c, c)\n",
    "# print(\"The dot product of the array c with c\", np.dot(c))"
   ]
  },
  {
   "cell_type": "markdown",
   "metadata": {},
   "source": [
    "<p style= \"color: hotpink\"><font face = \"chalkduster\"> Exercise 7 - Write the code necessary to sum up the result of c times c transposed. Answer should be 261 </font>"
   ]
  },
  {
   "cell_type": "code",
   "execution_count": null,
   "metadata": {},
   "outputs": [],
   "source": [
    "transposed= np.transpose(c) * c\n",
    "summed= np.sum(transposed)\n",
    "print(\"The sum of c transposed is\", summed)"
   ]
  },
  {
   "cell_type": "markdown",
   "metadata": {},
   "source": [
    "<p style= \"color: hotpink\"><font face = \"chalkduster\"> Exercise 8 - Write the code necessary to determine the product of c times c transposed. Answer should be 131681894400. </font>"
   ]
  },
  {
   "cell_type": "code",
   "execution_count": 376,
   "metadata": {},
   "outputs": [
    {
     "name": "stdout",
     "output_type": "stream",
     "text": [
      "The product of c times c transposed is 131681894400\n"
     ]
    }
   ],
   "source": [
    "transposed=np.transpose(c)\n",
    "total= (c*c.T).prod()\n",
    "print(\"The product of c times c transposed is\", total)"
   ]
  },
  {
   "cell_type": "markdown",
   "metadata": {},
   "source": [
    "<font face = \"chalkduster\" size = \"32\"> <p style= \"color: hotpink\">Setup 4: </font> </p>"
   ]
  },
  {
   "cell_type": "code",
   "execution_count": 380,
   "metadata": {},
   "outputs": [],
   "source": [
    "d = [\n",
    "    [90, 30, 45, 0, 120, 180],\n",
    "    [45, -90, -30, 270, 90, 0],\n",
    "    [60, 45, -45, 90, -45, 180]\n",
    "]\n",
    "d=np.array(d)"
   ]
  },
  {
   "cell_type": "code",
   "execution_count": 381,
   "metadata": {},
   "outputs": [
    {
     "name": "stdout",
     "output_type": "stream",
     "text": [
      "The sine of all the numbers is [[ 0.89399666 -0.98803162  0.85090352  0.          0.58061118 -0.80115264]\n",
      " [ 0.85090352 -0.89399666  0.98803162 -0.17604595  0.89399666  0.        ]\n",
      " [-0.30481062  0.85090352 -0.85090352  0.89399666 -0.85090352 -0.80115264]]\n",
      "The cosine of all the numbers is [[-0.44807362  0.15425145  0.52532199  1.          0.81418097 -0.59846007]\n",
      " [ 0.52532199 -0.44807362  0.15425145  0.98438195 -0.44807362  1.        ]\n",
      " [-0.95241298  0.52532199  0.52532199 -0.44807362  0.52532199 -0.59846007]]\n",
      "The tangent of all the numbers is [[-1.99520041 -6.4053312   1.61977519  0.          0.71312301  1.33869021]\n",
      " [ 1.61977519  1.99520041  6.4053312  -0.17883906 -1.99520041  0.        ]\n",
      " [ 0.32004039  1.61977519 -1.61977519 -1.99520041 -1.61977519  1.33869021]]\n",
      "The negative numbers in the list are [  0 -90 -30   0 -45 -45]\n",
      "The positive numbers in the list are [ 90  30  45 120 180  45 270  90  60  45  90 180]\n",
      "The unique numbers in the array are [-90 -45 -30   0  30  45  60  90 120 180 270]\n",
      "Tne amount of unique numbers in the list are 11\n",
      "The shape of the c array is (3, 6)\n",
      "The shape of transposed d is (6, 3)\n",
      "The reshaped array is [[ 90  30]\n",
      " [ 45   0]\n",
      " [120 180]\n",
      " [ 45 -90]\n",
      " [-30 270]\n",
      " [ 90   0]\n",
      " [ 60  45]\n",
      " [-45  90]\n",
      " [-45 180]]\n"
     ]
    }
   ],
   "source": [
    "# Exercise 1 - Find the sine of all the numbers in d\n",
    "np.sin(d)\n",
    "print(\"The sine of all the numbers is\", np.sin(d))\n",
    "# Exercise 2 - Find the cosine of all the numbers in d\n",
    "np.cos(d)\n",
    "print(\"The cosine of all the numbers is\", np.cos(d))\n",
    "# Exercise 3 - Find the tangent of all the numbers in d\n",
    "np.tan(d)\n",
    "print(\"The tangent of all the numbers is\", np.tan(d))\n",
    "# Exercise 4 - Find all the negative numbers in d\n",
    "neg_in_d= d[d < 1]\n",
    "print(\"The negative numbers in the list are\", neg_in_d)\n",
    "# Exercise 5 - Find all the positive numbers in d\n",
    "pos_in_d= d[d > 1]\n",
    "print(\"The positive numbers in the list are\", pos_in_d)\n",
    "# Exercise 6 - Return an array of only the unique numbers in d.\n",
    "np.unique(d)\n",
    "print(\"The unique numbers in the array are\", np.unique(d))\n",
    "# Exercise 7 - Determine how many unique numbers there are in d.\n",
    "len(np.unique(d))\n",
    "print(\"Tne amount of unique numbers in the list are\", len(np.unique(d)))\n",
    "# Exercise 8 - Print out the shape of d.\n",
    "np.shape(d)\n",
    "print(\"The shape of the c array is\", np.shape(d))\n",
    "# Exercise 9 - Transpose and then print out the shape of d.\n",
    "transpose= np.transpose(d)\n",
    "np.shape(transpose)\n",
    "print(\"The shape of transposed d is\", np.shape(transpose))\n",
    "# Exercise 10 - Reshape d into an array of 9 x 2\n",
    "d.reshape(9,2)\n",
    "print(\"The reshaped array is\", d.reshape(9,2))"
   ]
  }
 ],
 "metadata": {
  "kernelspec": {
   "display_name": "Python 3",
   "language": "python",
   "name": "python3"
  },
  "language_info": {
   "codemirror_mode": {
    "name": "ipython",
    "version": 3
   },
   "file_extension": ".py",
   "mimetype": "text/x-python",
   "name": "python",
   "nbconvert_exporter": "python",
   "pygments_lexer": "ipython3",
   "version": "3.7.6"
  }
 },
 "nbformat": 4,
 "nbformat_minor": 4
}
